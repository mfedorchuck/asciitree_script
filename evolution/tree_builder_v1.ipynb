{
 "cells": [
  {
   "cell_type": "code",
   "execution_count": 1,
   "metadata": {},
   "outputs": [],
   "source": [
    "message = \"(asciitree(sometimes you)(just(want to draw)) trees (in(your terminal)))\""
   ]
  },
  {
   "cell_type": "code",
   "execution_count": 2,
   "metadata": {},
   "outputs": [],
   "source": [
    "def spacebuild(depth, last_branch=0):\n",
    "    if last_branch == 0:\n",
    "        spacelist = ['    ', '|   ', '+-- ']\n",
    "    else:\n",
    "        spacelist = ['    ', '    ', '+-- ']\n",
    "    \n",
    "    if depth < 3 and depth > 0:\n",
    "        return ''.join(spacelist[-depth:])\n",
    "    elif depth >= 3:\n",
    "        return ''.join(spacelist[-2] + spacelist[-3] * (depth - 2) + spacelist[-1])\n",
    "    else:\n",
    "        return ''"
   ]
  },
  {
   "cell_type": "code",
   "execution_count": 3,
   "metadata": {},
   "outputs": [],
   "source": [
    "wordlist = ' '.join(message[1: -1].split('('))\n",
    "wordlist = ' '.join(wordlist.split(')'))\n",
    "wordlist = [word for word in wordlist.split(' ') if word != '']\n",
    "wordlist\n",
    "\n",
    "depth_list = []\n",
    "space_depth = 0\n",
    "for word in wordlist:\n",
    "    # what if they are repeat ??\n",
    "    all_before = message[1: -1].split(word)[0]\n",
    "    depth = all_before.count('(') - all_before.count(')')\n",
    "    if len(all_before) > 0:\n",
    "        for symbol in all_before[-1:-len(all_before)-1:-1]:\n",
    "            if symbol == ' ':\n",
    "                space_depth = 1\n",
    "                break\n",
    "            elif symbol == '(' or ')':\n",
    "                space_depth = 0\n",
    "                break\n",
    "    depth_list.append(depth + space_depth)\n",
    "    "
   ]
  },
  {
   "cell_type": "code",
   "execution_count": 4,
   "metadata": {},
   "outputs": [],
   "source": [
    "last_branch_list = []\n",
    "for i, j in enumerate(depth_list):\n",
    "    if j > 1 and j <= min(depth_list[i:]):\n",
    "        last_branch_list.append(1)\n",
    "    else:\n",
    "        last_branch_list.append(0)"
   ]
  },
  {
   "cell_type": "code",
   "execution_count": 5,
   "metadata": {},
   "outputs": [
    {
     "name": "stdout",
     "output_type": "stream",
     "text": [
      "asciitree\n",
      "+-- sometimes\n",
      "|   +-- you\n",
      "+-- just\n",
      "|   +-- want\n",
      "|       +-- to\n",
      "|       +-- draw\n",
      "+-- trees\n",
      "+-- in\n",
      "    +-- your\n",
      "        +-- terminal\n"
     ]
    }
   ],
   "source": [
    "for i in range(len(wordlist)):\n",
    "    print(spacebuild(depth_list[i], last_branch=last_branch_list[i]) + wordlist[i])    \n"
   ]
  }
 ],
 "metadata": {
  "kernelspec": {
   "display_name": "Python 3",
   "language": "python",
   "name": "python3"
  },
  "language_info": {
   "codemirror_mode": {
    "name": "ipython",
    "version": 3
   },
   "file_extension": ".py",
   "mimetype": "text/x-python",
   "name": "python",
   "nbconvert_exporter": "python",
   "pygments_lexer": "ipython3",
   "version": "3.5.2"
  }
 },
 "nbformat": 4,
 "nbformat_minor": 2
}
