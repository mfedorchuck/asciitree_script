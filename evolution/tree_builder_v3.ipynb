{
 "cells": [
  {
   "cell_type": "code",
   "execution_count": 1,
   "metadata": {},
   "outputs": [
    {
     "data": {
      "text/plain": [
       "'\\nMade by Max Fedorchuck as a test task for applying to the:\\nData Science - NLP computer linguistic school (Kyiv, Projector, 2019)\\n\\nCode style was stolen from Google-oriented open-source project guide:\\n(http://google.github.io/styleguide/pyguide.html) \\n\\nFirst couple versions of this programm in folder \"/evolution\"  \\n'"
      ]
     },
     "execution_count": 1,
     "metadata": {},
     "output_type": "execute_result"
    }
   ],
   "source": [
    "\"\"\"\n",
    "Made by Max Fedorchuck as a test task for applying to the:\n",
    "Data Science - NLP computer linguistic school (Kyiv, Projector, 2019)\n",
    "\n",
    "Code style was stolen from Google-oriented open-source project guide:\n",
    "(http://google.github.io/styleguide/pyguide.html) \n",
    "\n",
    "First couple versions of this programm in folder \"/evolution\"  \n",
    "\"\"\""
   ]
  },
  {
   "cell_type": "code",
   "execution_count": 2,
   "metadata": {},
   "outputs": [],
   "source": [
    "message = \"(asciitree(sometimes you)(just(want to draw)) trees (in(your terminal)))\"\n",
    "long_message = \"(asciitree(sometimes you)(just(want to draw)) trees with (deep(deep(deep(branches)))) (in(your terminal)))\"\n",
    "bad_message = \"this is not asciitree format\" \n",
    "bad_message_2 = \"(this is not (asciitree correct format)\""
   ]
  },
  {
   "cell_type": "code",
   "execution_count": 3,
   "metadata": {},
   "outputs": [],
   "source": [
    "def check_layout(message):\n",
    "    \"\"\"Check layout of the input message.\n",
    "\n",
    "    Args:\n",
    "      message: String with characters for building the structure like asciitree.\n",
    "    Raises:\n",
    "      ValueError: If very first or very last character in the message is not correct.\n",
    "      ValueError: If amount of the 'opening' brackets not equal to amount of the 'closing' brackets.\n",
    "    Returns:\n",
    "      Input message if layout is correct for ascii tree building.\n",
    "    \"\"\"\n",
    "    if message[0] != '(' or message[-1] != ')':\n",
    "        raise ValueError('Input message with corrupted first or last symbol')\n",
    "    elif message.count('(') != message.count(')'):\n",
    "        raise ValueError('Input message with incorrect number of brackets')\n",
    "    else:\n",
    "        print('Layout is ok', end='\\n\\n')\n",
    "        \n",
    "        return message\n"
   ]
  },
  {
   "cell_type": "code",
   "execution_count": 4,
   "metadata": {},
   "outputs": [],
   "source": [
    "def find_last_branch(message_structure):\n",
    "    \"\"\"Add the last branch index to the each field in dictionary with a tree structure.\n",
    "\n",
    "    Args:\n",
    "        message_structure: dictionary with order position as a key value and list with\n",
    "        word and it`s depth index as a value:\n",
    "        message_structure = {\n",
    "        key(int value): [word(str), depth index(int)]\n",
    "        ...\n",
    "        }\n",
    "    Returns:\n",
    "        message_structure: dictionary with last branch indexes for correct printing\n",
    "        the ascii-like tree.\n",
    "    \"\"\"\n",
    "    word_depth = list(message_structure.values())\n",
    "    depth_list = [d[1] for d in word_depth]\n",
    "\n",
    "    for key in message_structure:\n",
    "        depth = message_structure[key][1] \n",
    "        if depth > 1 and depth <= min(depth_list[key-1:]):\n",
    "            message_structure[key] = (message_structure[key][0], message_structure[key][1], 1)\n",
    "        else:\n",
    "            message_structure[key] = (message_structure[key][0], message_structure[key][1], 0)\n",
    "            \n",
    "    return message_structure\n"
   ]
  },
  {
   "cell_type": "code",
   "execution_count": 5,
   "metadata": {},
   "outputs": [],
   "source": [
    "def build_structure(message):\n",
    "    \"\"\"Build tree structures using characters from a string.\n",
    "\n",
    "    Args:\n",
    "        message: String with characters for building the structure like asciitree algorithm builds.\n",
    "    Returns:\n",
    "        structure_with_depth: dictionary with parameters for printing the ascii-like tree.\n",
    "    \"\"\"\n",
    "    word = ''\n",
    "    full_depth = -1\n",
    "    space_depth = 0\n",
    "    dictionary = {}\n",
    "    struct_set = [' ', '(', ')']\n",
    "\n",
    "    for i, symbol in enumerate(message):\n",
    "        if symbol not in struct_set:\n",
    "            word += symbol\n",
    "\n",
    "        elif symbol == ' ':\n",
    "            if word:\n",
    "                dictionary[len(dictionary) + 1] = word, full_depth + space_depth\n",
    "                \n",
    "            word = ''\n",
    "            space_depth = 1\n",
    "\n",
    "\n",
    "        elif symbol == '(':\n",
    "            if word:\n",
    "                dictionary[len(dictionary) + 1] = word, full_depth + space_depth\n",
    "                \n",
    "            word = ''\n",
    "            space_depth = 0\n",
    "            full_depth += 1\n",
    "\n",
    "        elif symbol == ')':\n",
    "            if word:\n",
    "                dictionary[len(dictionary) + 1] = word, full_depth + space_depth\n",
    "            \n",
    "            word = ''\n",
    "            space_depth = 0\n",
    "            full_depth -= 1\n",
    "                        \n",
    "    structure_with_depth = find_last_branch(dictionary)\n",
    "    \n",
    "    return structure_with_depth\n"
   ]
  },
  {
   "cell_type": "code",
   "execution_count": 7,
   "metadata": {},
   "outputs": [],
   "source": [
    "def print_structure(tree_structure):\n",
    "    \"\"\"Print into the console structure according to the given parameters.\n",
    "\n",
    "    Args:\n",
    "        tree_structure: dictionary with parameters for printing the ascii-like tree.\n",
    "    Prints:\n",
    "        tree structure row by row\n",
    "    Returns:\n",
    "        None\n",
    "    \"\"\"    \n",
    "    for word_params in tree_structure.values():\n",
    "        depth = word_params[1]\n",
    "        spacelist = ['    ', '|   ', '+-- '] \n",
    "        if word_params[-1] != 0:\n",
    "            spacelist[1] = '    '\n",
    "        \n",
    "        if depth < 3 and depth > 0:\n",
    "            spaces = ''.join(spacelist[-depth:])\n",
    "        elif depth >= 3:\n",
    "            spaces = ''.join(spacelist[1] + spacelist[0] * (depth - 2) + spacelist[2])\n",
    "        else:\n",
    "            spaces = ''\n",
    "\n",
    "        print(spaces + word_params[0])\n"
   ]
  },
  {
   "cell_type": "code",
   "execution_count": 10,
   "metadata": {},
   "outputs": [
    {
     "name": "stdout",
     "output_type": "stream",
     "text": [
      "Layout is ok\n"
     ]
    }
   ],
   "source": [
    "message = check_layout(long_message)\n"
   ]
  },
  {
   "cell_type": "code",
   "execution_count": 11,
   "metadata": {},
   "outputs": [],
   "source": [
    "message_struct = build_structure(message)\n"
   ]
  },
  {
   "cell_type": "code",
   "execution_count": null,
   "metadata": {},
   "outputs": [
    {
     "name": "stdout",
     "output_type": "stream",
     "text": [
      "asciitree\n",
      "+-- sometimes\n",
      "|   +-- you\n",
      "+-- just\n",
      "|   +-- want\n",
      "|       +-- to\n",
      "|       +-- draw\n",
      "+-- trees\n",
      "+-- with\n",
      "+-- deep\n",
      "|   +-- deep\n",
      "|       +-- deep\n",
      "|           +-- branches\n",
      "+-- in\n",
      "    +-- your\n",
      "        +-- terminal\n"
     ]
    }
   ],
   "source": [
    "print_structure(message_struct)\n"
   ]
  }
 ],
 "metadata": {
  "kernelspec": {
   "display_name": "Python 3",
   "language": "python",
   "name": "python3"
  },
  "language_info": {
   "codemirror_mode": {
    "name": "ipython",
    "version": 3
   },
   "file_extension": ".py",
   "mimetype": "text/x-python",
   "name": "python",
   "nbconvert_exporter": "python",
   "pygments_lexer": "ipython3",
   "version": "3.6.7"
  }
 },
 "nbformat": 4,
 "nbformat_minor": 2
}
