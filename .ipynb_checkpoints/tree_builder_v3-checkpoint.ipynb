{
 "cells": [
  {
   "cell_type": "code",
   "execution_count": 68,
   "metadata": {},
   "outputs": [],
   "source": [
    "message = \"(asciitree(sometimes you)(just(want to draw)) trees (in(your terminal)))\"\n",
    "long_message = \"(asciitree(sometimes you)(just(want to draw)) trees with (deep(deep(deep(branches)))) (in(your terminal)))\"\n",
    "bad_message = \"this is not asciitree format\" \n",
    "bad_message_2 = \"(this is not (asciitree correct format)\""
   ]
  },
  {
   "cell_type": "code",
   "execution_count": 9,
   "metadata": {},
   "outputs": [],
   "source": [
    "def check_layout(message):\n",
    "    \"\"\"Check layout of the input message.\n",
    "\n",
    "    Args:\n",
    "      message: String with characters for building the structure like asciitree.\n",
    "    Raises:\n",
    "      ValueError: If very first or very last character in the message is not correct.\n",
    "      ValueError: If amount of the 'opening' brackets not equal to amount of the 'closing' brackets.\n",
    "    Returns:\n",
    "      Input message if layout is correct for ascii tree building.\n",
    "    \"\"\"\n",
    "    \n",
    "    \n",
    "    if message[0] != '(' or message[-1] != ')':\n",
    "        raise ValueError('Input message with corrupted first or last symbol')\n",
    "    elif message.count('(') != message.count(')'):\n",
    "        raise ValueError('Input message with incorrect number of brackets')\n",
    "    else:\n",
    "        print('Layout is ok')\n",
    "        return message\n",
    "        "
   ]
  },
  {
   "cell_type": "code",
   "execution_count": 53,
   "metadata": {},
   "outputs": [],
   "source": [
    "def find_structure_depth(message_structure):\n",
    "    \n",
    "    word_depth = list(message_structure.values())\n",
    "    depth_list = [d[1] for d in word_depth]\n",
    "\n",
    "    for key in message_structure:\n",
    "        depth = message_structure[key][1] \n",
    "        if depth > 1 and depth <= min(depth_list[key-1:]):\n",
    "            message_structure[key] = (message_structure[key][0], message_structure[key][1], 1)\n",
    "        else:\n",
    "            message_structure[key] = (message_structure[key][0], message_structure[key][1], 0)\n",
    "            \n",
    "    return message_structure"
   ]
  },
  {
   "cell_type": "code",
   "execution_count": 54,
   "metadata": {},
   "outputs": [],
   "source": [
    "def build_structure(message):\n",
    "    \"\"\"Build tree structures using characters.\n",
    "\n",
    "    Args:\n",
    "        message: String with characters for building the structure like asciitree algorithm builds.\n",
    "    Returns:\n",
    "        dictionary with parameters for printing the ascii-like tree.\n",
    "    \"\"\"\n",
    "    \n",
    "    \n",
    "    word = ''\n",
    "    full_depth = -1\n",
    "    space_depth = 0\n",
    "    dictionary = {}\n",
    "    struct_set = [' ', '(', ')']\n",
    "\n",
    "    for i, symbol in enumerate(message):\n",
    "        if symbol not in struct_set:\n",
    "            word += symbol\n",
    "\n",
    "        elif symbol == ' ':\n",
    "            if word:\n",
    "                dictionary[len(dictionary) + 1] = word, full_depth + space_depth\n",
    "                \n",
    "            word = ''\n",
    "            space_depth = 1\n",
    "\n",
    "\n",
    "        elif symbol == '(':\n",
    "            if word:\n",
    "                dictionary[len(dictionary) + 1] = word, full_depth + space_depth\n",
    "                \n",
    "            word = ''\n",
    "            space_depth = 0\n",
    "            full_depth += 1\n",
    "\n",
    "        elif symbol == ')':\n",
    "            if word:\n",
    "                dictionary[len(dictionary) + 1] = word, full_depth + space_depth\n",
    "            \n",
    "            word = ''\n",
    "            space_depth = 0\n",
    "            full_depth -= 1\n",
    "            \n",
    "    structure_with_depth = find_structure_depth(dictionary)\n",
    "    \n",
    "    return structure_with_depth"
   ]
  },
  {
   "cell_type": "code",
   "execution_count": 72,
   "metadata": {},
   "outputs": [
    {
     "name": "stdout",
     "output_type": "stream",
     "text": [
      "asciitree\n",
      "+-- sometimes\n",
      "|   +-- you\n",
      "+-- just\n",
      "|   +-- want\n",
      "|       +-- to\n",
      "|       +-- draw\n",
      "+-- trees\n",
      "+-- with\n",
      "+-- deep\n",
      "|   +-- deep\n",
      "|       +-- deep\n",
      "|           +-- branches\n",
      "+-- in\n",
      "    +-- your\n",
      "        +-- terminal\n"
     ]
    }
   ],
   "source": [
    "def spacebuild(depth, last_branch=0):\n",
    "    if last_branch == 0:\n",
    "        spacelist = ['    ', '|   ', '+-- ']\n",
    "    else:\n",
    "        spacelist = ['    ', '    ', '+-- ']\n",
    "    \n",
    "    if depth < 3 and depth > 0:\n",
    "        return ''.join(spacelist[-depth:])\n",
    "    elif depth >= 3:\n",
    "        return ''.join(spacelist[-2] + spacelist[-3] * (depth - 2) + spacelist[-1])\n",
    "    else:\n",
    "        return ''\n",
    "    \n",
    "    \n",
    "for word in message_struct.values():\n",
    "        print(spacebuild(word[1], word[2]) + word[0])"
   ]
  },
  {
   "cell_type": "code",
   "execution_count": 103,
   "metadata": {},
   "outputs": [],
   "source": [
    "def print_structure(tree_structure):\n",
    "    \n",
    "    \n",
    "    for word_params in tree_structure.values():\n",
    "        depth = word_params[1]\n",
    "        spacelist = ['    ', '|   ', '+-- '] \n",
    "        if word_params[-1] == 0:\n",
    "            spacelist[1] = '    '\n",
    "#             else ['    ', '    ', '+-- ']\n",
    "        \n",
    "        if depth < 3 and depth > 0:\n",
    "            spaces = ''.join(spacelist[-depth:])\n",
    "        elif depth >= 3:\n",
    "            spaces = ''.join(spacelist[1] + spacelist[0] * (depth - 2) + spacelist[2])\n",
    "        else:\n",
    "            spaces = ''\n",
    "\n",
    "        print(spaces + word_params[0])"
   ]
  },
  {
   "cell_type": "code",
   "execution_count": 104,
   "metadata": {},
   "outputs": [
    {
     "name": "stdout",
     "output_type": "stream",
     "text": [
      "layout is ok\n",
      "message: \n",
      " (asciitree(sometimes you)(just(want to draw)) trees with (deep(deep(deep(branches)))) (in(your terminal)))\n",
      "\n",
      "builded message structure: \n",
      " {1: ('asciitree', 0, 0), 2: ('sometimes', 1, 0), 3: ('you', 2, 0), 4: ('just', 1, 0), 5: ('want', 2, 0), 6: ('to', 3, 0), 7: ('draw', 3, 0), 8: ('trees', 1, 0), 9: ('with', 1, 0), 10: ('deep', 1, 0), 11: ('deep', 2, 0), 12: ('deep', 3, 0), 13: ('branches', 4, 0), 14: ('in', 1, 0), 15: ('your', 2, 1), 16: ('terminal', 3, 1)}\n",
      "\n",
      "asciitree\n",
      "+-- sometimes\n",
      "    +-- you\n",
      "+-- just\n",
      "    +-- want\n",
      "        +-- to\n",
      "        +-- draw\n",
      "+-- trees\n",
      "+-- with\n",
      "+-- deep\n",
      "    +-- deep\n",
      "        +-- deep\n",
      "            +-- branches\n",
      "+-- in\n",
      "|   +-- your\n",
      "|       +-- terminal\n"
     ]
    }
   ],
   "source": [
    "message = check_layout(long_message)\n",
    "print('message: \\n', message)\n",
    "print()\n",
    "\n",
    "message_struct = build_structure(message)\n",
    "print('builded message structure: \\n', message_struct)\n",
    "print()\n",
    "\n",
    "print_structure(message_struct)"
   ]
  },
  {
   "cell_type": "code",
   "execution_count": 102,
   "metadata": {},
   "outputs": [
    {
     "name": "stdout",
     "output_type": "stream",
     "text": [
      "asciitree\n",
      "+-- sometimes\n",
      "|   +-- you\n",
      "+-- just\n",
      "|   +-- want\n",
      "|       +-- to\n",
      "|       +-- draw\n",
      "+-- trees\n",
      "+-- with\n",
      "+-- deep\n",
      "|   +-- deep\n",
      "|       +-- deep\n",
      "|           +-- branches\n",
      "+-- in\n",
      "    +-- your\n",
      "        +-- terminal\n"
     ]
    }
   ],
   "source": [
    "print_structure(message_struct)"
   ]
  },
  {
   "cell_type": "code",
   "execution_count": null,
   "metadata": {},
   "outputs": [],
   "source": []
  }
 ],
 "metadata": {
  "kernelspec": {
   "display_name": "Python 3",
   "language": "python",
   "name": "python3"
  },
  "language_info": {
   "codemirror_mode": {
    "name": "ipython",
    "version": 3
   },
   "file_extension": ".py",
   "mimetype": "text/x-python",
   "name": "python",
   "nbconvert_exporter": "python",
   "pygments_lexer": "ipython3",
   "version": "3.6.7"
  }
 },
 "nbformat": 4,
 "nbformat_minor": 2
}
