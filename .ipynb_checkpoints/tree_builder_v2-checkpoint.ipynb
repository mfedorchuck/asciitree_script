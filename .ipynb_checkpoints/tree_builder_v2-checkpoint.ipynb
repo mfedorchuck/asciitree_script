{
 "cells": [
  {
   "cell_type": "code",
   "execution_count": 2,
   "metadata": {},
   "outputs": [],
   "source": [
    "message = \"(asciitree(sometimes you)(just(want to draw)) trees (in(your terminal)))\""
   ]
  },
  {
   "cell_type": "code",
   "execution_count": 5,
   "metadata": {},
   "outputs": [
    {
     "name": "stdout",
     "output_type": "stream",
     "text": [
      "asciitreesometimes\n",
      "{1: 'asciitreesometimes'}\n",
      "youjustwant\n",
      "{1: 'asciitreesometimes', 2: 'youjustwant'}\n",
      "to\n",
      "{1: 'asciitreesometimes', 2: 'youjustwant', 3: 'to'}\n",
      "draw\n",
      "{1: 'asciitreesometimes', 2: 'youjustwant', 3: 'to', 4: 'draw'}\n",
      "trees\n",
      "{1: 'asciitreesometimes', 2: 'youjustwant', 3: 'to', 4: 'draw', 5: 'trees'}\n",
      "inyour\n",
      "{1: 'asciitreesometimes', 2: 'youjustwant', 3: 'to', 4: 'draw', 5: 'trees', 6: 'inyour'}\n"
     ]
    }
   ],
   "source": [
    "word = ''\n",
    "full_depth = 0\n",
    "space_depth = 0\n",
    "dictionary = {}\n",
    "\n",
    "for i, symbol in enumerate(message):\n",
    "    def word_to_dict(dictionary, word):\n",
    "        position = len(dictionary) + 1\n",
    "        dictionary[position] = word\n",
    "        return dictionary\n",
    "    \n",
    "    if symbol not in [' ', '(', ')']:\n",
    "        word += symbol\n",
    "    elif symbol == ' ':\n",
    "        if word != '':\n",
    "            dictionary = word_to_dict(dictionary, word)\n",
    "            print(word)\n",
    "            print(dictionary)\n",
    "        word = ''"
   ]
  }
 ],
 "metadata": {
  "kernelspec": {
   "display_name": "Python 3",
   "language": "python",
   "name": "python3"
  },
  "language_info": {
   "codemirror_mode": {
    "name": "ipython",
    "version": 3
   },
   "file_extension": ".py",
   "mimetype": "text/x-python",
   "name": "python",
   "nbconvert_exporter": "python",
   "pygments_lexer": "ipython3",
   "version": "3.5.2"
  }
 },
 "nbformat": 4,
 "nbformat_minor": 2
}
