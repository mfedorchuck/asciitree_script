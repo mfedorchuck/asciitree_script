{
 "cells": [
  {
   "cell_type": "code",
   "execution_count": 2,
   "metadata": {},
   "outputs": [],
   "source": [
    "message = \"(asciitree(sometimes you)(just(want to draw)) trees (in(your terminal)))\""
   ]
  },
  {
   "cell_type": "code",
   "execution_count": 10,
   "metadata": {},
   "outputs": [
    {
     "name": "stdout",
     "output_type": "stream",
     "text": [
      "{1: ('asciitree', 0), 2: ('sometimes', 1), 3: ('you', 2), 4: ('just', 1), 5: ('want', 2), 6: ('to', 3), 7: ('draw', 3), 8: ('trees', 1), 9: ('in', 1), 10: ('your', 2), 11: ('terminal', 3)}\n"
     ]
    }
   ],
   "source": [
    "word = ''\n",
    "full_depth = -1\n",
    "space_depth = 0\n",
    "dictionary = {}\n",
    "\n",
    "for i, symbol in enumerate(message):\n",
    "    def word_to_dict(dictionary, word, depth):\n",
    "        position = len(dictionary) + 1\n",
    "        dictionary[position] = (word, depth)\n",
    "        return dictionary\n",
    "    \n",
    "    if symbol not in [' ', '(', ')']:\n",
    "        word += symbol\n",
    "        \n",
    "    elif symbol == ' ':\n",
    "        if word != '':\n",
    "            dictionary = word_to_dict(dictionary, word, full_depth + space_depth)\n",
    "        word = ''\n",
    "        space_depth = 1\n",
    "\n",
    "        \n",
    "    elif symbol == '(':\n",
    "        if word != '':\n",
    "            dictionary = word_to_dict(dictionary, word, full_depth + space_depth)\n",
    "        word = ''\n",
    "        space_depth = 0\n",
    "        full_depth += 1\n",
    "        \n",
    "    elif symbol == ')':\n",
    "        if word != '':\n",
    "            dictionary = word_to_dict(dictionary, word, full_depth + space_depth)\n",
    "        word = ''\n",
    "        \n",
    "        space_depth = 0\n",
    "        full_depth -= 1\n",
    "        \n",
    "print(dictionary)"
   ]
  },
  {
   "cell_type": "code",
   "execution_count": 11,
   "metadata": {},
   "outputs": [],
   "source": [
    "def spacebuild(depth, last_branch=0):\n",
    "    if last_branch == 0:\n",
    "        spacelist = ['    ', '|   ', '+-- ']\n",
    "    else:\n",
    "        spacelist = ['    ', '    ', '+-- ']\n",
    "    \n",
    "    if depth < 3 and depth > 0:\n",
    "        return ''.join(spacelist[-depth:])\n",
    "    elif depth >= 3:\n",
    "        return ''.join(spacelist[-2] + spacelist[-3] * (depth - 2) + spacelist[-1])\n",
    "    else:\n",
    "        return ''"
   ]
  },
  {
   "cell_type": "code",
   "execution_count": 46,
   "metadata": {},
   "outputs": [],
   "source": [
    "word_depth = list(dictionary.values())\n",
    "depth_list = [d[1] for d in word_depth]\n",
    "\n",
    "for key in dictionary:\n",
    "    depth = dictionary[key][1] \n",
    "    if depth > 1 and depth <= min(depth_list[key-1:]):\n",
    "        dictionary[key] = (dictionary[key][0], dictionary[key][1], 1)\n",
    "    else:\n",
    "        dictionary[key] = (dictionary[key][0], dictionary[key][1], 0)\n"
   ]
  },
  {
   "cell_type": "code",
   "execution_count": 47,
   "metadata": {},
   "outputs": [
    {
     "name": "stdout",
     "output_type": "stream",
     "text": [
      "asciitree\n",
      "+-- sometimes\n",
      "|   +-- you\n",
      "+-- just\n",
      "|   +-- want\n",
      "|       +-- to\n",
      "|       +-- draw\n",
      "+-- trees\n",
      "+-- in\n",
      "    +-- your\n",
      "        +-- terminal\n"
     ]
    }
   ],
   "source": [
    "for word in dictionary.values():\n",
    "    print(spacebuild(word[1], word[2]) + word[0])"
   ]
  }
 ],
 "metadata": {
  "kernelspec": {
   "display_name": "Python 3",
   "language": "python",
   "name": "python3"
  },
  "language_info": {
   "codemirror_mode": {
    "name": "ipython",
    "version": 3
   },
   "file_extension": ".py",
   "mimetype": "text/x-python",
   "name": "python",
   "nbconvert_exporter": "python",
   "pygments_lexer": "ipython3",
   "version": "3.6.7"
  }
 },
 "nbformat": 4,
 "nbformat_minor": 2
}
